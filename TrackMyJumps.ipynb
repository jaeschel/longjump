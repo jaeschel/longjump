{
  "nbformat": 4,
  "nbformat_minor": 0,
  "metadata": {
    "colab": {
      "provenance": [],
      "authorship_tag": "ABX9TyPaA6EOGLVT1YkNToAtyovt",
      "include_colab_link": true
    },
    "kernelspec": {
      "name": "python3",
      "display_name": "Python 3"
    },
    "language_info": {
      "name": "python"
    }
  },
  "cells": [
    {
      "cell_type": "markdown",
      "metadata": {
        "id": "view-in-github",
        "colab_type": "text"
      },
      "source": [
        "<a href=\"https://colab.research.google.com/github/jaeschel/longjump/blob/main/TrackMyJumps.ipynb\" target=\"_parent\"><img src=\"https://colab.research.google.com/assets/colab-badge.svg\" alt=\"Open In Colab\"/></a>"
      ]
    },
    {
      "cell_type": "code",
      "execution_count": null,
      "metadata": {
        "id": "QY8TwoqjsW-l"
      },
      "outputs": [],
      "source": [
        "import json\n",
        "import matplotlib.pyplot as plt\n",
        "\n",
        "class FatigueCalculator:\n",
        "    def __init__(self):\n",
        "        self.data = []\n",
        "\n",
        "    def calculate_fatigue(self, number_of_jumps, approach_type, landed, academic_fatigue, sleep_hours):\n",
        "        jump_weight = 1.5\n",
        "        approach_weights = {'short approach': 0.5, 'long approach': 1.0, '12 step': 1.5}\n",
        "        land_weight = 2\n",
        "        academic_weight = 1.2\n",
        "        sleep_weight = -1\n",
        "\n",
        "        jump_fatigue = number_of_jumps * jump_weight\n",
        "        steps_fatigue = approach_weights.get(approach_type, 0)\n",
        "        land_fatigue = land_weight if landed else 0\n",
        "        academic_fatigue_score = academic_fatigue * academic_weight\n",
        "        sleep_fatigue = (8 - sleep_hours) * sleep_weight\n",
        "\n",
        "        total_fatigue = (jump_fatigue + steps_fatigue + land_fatigue +\n",
        "                         academic_fatigue_score + sleep_fatigue)\n",
        "        fatigue_level = max(0, min(total_fatigue, 100))\n",
        "        self.data.append(fatigue_level)\n",
        "        return fatigue_level\n",
        "\n",
        "    def save_data(self, filename='fatigue_data.json'):\n",
        "        with open(filename, 'w') as file:\n",
        "            json.dump(self.data, file)\n",
        "        print(f\"Data saved to {filename}.\")\n",
        "\n",
        "    def load_data(self, filename='fatigue_data.json'):\n",
        "        try:\n",
        "            with open(filename, 'r') as file:\n",
        "                self.data = json.load(file)\n",
        "            print(f\"Data loaded from {filename}.\")\n",
        "        except FileNotFoundError:\n",
        "            print(f\"No previous data found at {filename}. Starting fresh.\")\n",
        "\n",
        "    def plot_data(self):\n",
        "        plt.plot(self.data, marker='o', linestyle='-', color='b')\n",
        "        plt.title(\"Fatigue Levels Over Time\")\n",
        "        plt.xlabel(\"Session Number\")\n",
        "        plt.ylabel(\"Fatigue Level\")\n",
        "        plt.ylim(0, 100)\n",
        "        plt.show()\n",
        "\n",
        "# Example usage\n",
        "calculator = FatigueCalculator()\n",
        "calculator.load_data()\n",
        "\n",
        "try:\n",
        "    number_of_jumps = int(input(\"Enter the number of jumps: \"))\n",
        "    approach_type = input(\"Enter the approach type (short approach, long approach, 12 step): \").strip().lower()\n",
        "    landed_input = input(\"Did you land during the session? (yes/no): \").strip().lower()\n",
        "    landed = landed_input == 'yes'\n",
        "    academic_fatigue = int(input(\"Enter your academic/outside fatigue level (1-5): \"))\n",
        "    sleep_hours = float(input(\"Enter the number of hours you slept: \"))\n",
        "\n",
        "    fatigue_level = calculator.calculate_fatigue(number_of_jumps, approach_type, landed, academic_fatigue, sleep_hours)\n",
        "    print(f\"\\nAnticipated Fatigue Level: {fatigue_level}\")\n",
        "\n",
        "    calculator.save_data()\n",
        "    calculator.plot_data()\n",
        "\n",
        "except ValueError:\n",
        "    print(\"Please enter valid numeric values where required.\")\n"
      ]
    }
  ]
}